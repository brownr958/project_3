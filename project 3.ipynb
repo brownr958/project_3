{
 "cells": [
  {
   "cell_type": "code",
   "execution_count": 1,
   "id": "b03d65c8",
   "metadata": {},
   "outputs": [],
   "source": [
    "%matplotlib inline\n",
    "import matplotlib.pyplot as plt\n",
    "import numpy as np\n",
    "import pandas as pd\n",
    "from sklearn import tree"
   ]
  },
  {
   "cell_type": "code",
   "execution_count": 2,
   "id": "dee691d5",
   "metadata": {},
   "outputs": [],
   "source": [
    "from sklearn.datasets import make_regression\n",
    "from sklearn.ensemble import RandomForestClassifier\n",
    "from sklearn.datasets import load_iris"
   ]
  },
  {
   "cell_type": "code",
   "execution_count": 62,
   "id": "fa28e185",
   "metadata": {
    "scrolled": true
   },
   "outputs": [],
   "source": [
    "housing= pd.read_csv('train.csv')\n",
    "housing_test= pd.read_csv('test.csv')"
   ]
  },
  {
   "cell_type": "code",
   "execution_count": 15,
   "id": "71454d6f",
   "metadata": {
    "scrolled": true
   },
   "outputs": [
    {
     "name": "stdout",
     "output_type": "stream",
     "text": [
      "34900 755000\n"
     ]
    }
   ],
   "source": [
    "sale_price = housing['SalePrice']\n",
    "min_sales = housing['SalePrice'].min()\n",
    "max_sales = housing['SalePrice'].max()\n",
    "print(min_sales, max_sales)"
   ]
  },
  {
   "cell_type": "code",
   "execution_count": 5,
   "id": "eecca70e",
   "metadata": {
    "scrolled": true
   },
   "outputs": [
    {
     "data": {
      "text/plain": [
       "0       0.241078\n",
       "1       0.203583\n",
       "2       0.261908\n",
       "3       0.145952\n",
       "4       0.298709\n",
       "          ...   \n",
       "1455    0.194556\n",
       "1456    0.243161\n",
       "1457    0.321622\n",
       "1458    0.148903\n",
       "1459    0.156367\n",
       "Name: SalePrice, Length: 1460, dtype: float64"
      ]
     },
     "execution_count": 5,
     "metadata": {},
     "output_type": "execute_result"
    }
   ],
   "source": [
    "#norm_df = (df - _min) / (_max - _min) # 0-1\n",
    "#scale = df * (_max - _min) + _min # \n",
    "norm_sales = (housing['SalePrice'] - min_sales) / (max_sales - min_sales)\n",
    "norm_sales"
   ]
  },
  {
   "cell_type": "code",
   "execution_count": 6,
   "id": "ba94ab6e",
   "metadata": {
    "scrolled": false
   },
   "outputs": [
    {
     "data": {
      "text/plain": [
       "2009    338\n",
       "2007    329\n",
       "2006    314\n",
       "2008    304\n",
       "2010    175\n",
       "Name: YrSold, dtype: int64"
      ]
     },
     "execution_count": 6,
     "metadata": {},
     "output_type": "execute_result"
    }
   ],
   "source": [
    "housing['YrSold'].value_counts()"
   ]
  },
  {
   "cell_type": "code",
   "execution_count": 7,
   "id": "751a1e5e",
   "metadata": {
    "scrolled": true
   },
   "outputs": [],
   "source": [
    "house_cleaning_1 = housing.replace(['Grvl', 'Pave', 'Gd', 'Fa', 'EX', 'MnPrv', 'GdPrv', 'GdWo', 'GdWw', 'Shed', 'Othr', 'Gar2', 'Tenc'], [1, 1, 1, 1, 1,1 ,1 ,1, 1,1 ,1 , 1, 1])\n",
    "house_cleaning_2 = house_cleaning_1.fillna(value = 0)\n",
    "house_cleaning = house_cleaning_2.drop(columns = ['SalePrice'])"
   ]
  },
  {
   "cell_type": "code",
   "execution_count": 8,
   "id": "9e2817c4",
   "metadata": {
    "scrolled": true
   },
   "outputs": [
    {
     "name": "stdout",
     "output_type": "stream",
     "text": [
      "(1460, 80) (1460, 1)\n"
     ]
    }
   ],
   "source": [
    "X = house_cleaning\n",
    "y = norm_sales.values.reshape(-1, 1)\n",
    "print(X.shape, y.shape)"
   ]
  },
  {
   "cell_type": "code",
   "execution_count": 97,
   "id": "0ab1b6d5",
   "metadata": {},
   "outputs": [],
   "source": [
    "test= pd.get_dummies(X)\n",
    "drops_test = test[['OverallCond', 'BsmtFullBath', 'LowQualFinSF', '1stFlrSF',\n",
    "                               'BsmtFinSF2','2ndFlrSF', 'GarageArea', 'LotArea', 'HalfBath', 'BsmtExposure_Av' ]]\n",
    "drops_test.to_csv(r\"testing.csv\", index=False)"
   ]
  },
  {
   "cell_type": "code",
   "execution_count": 10,
   "id": "b7837fb8",
   "metadata": {
    "scrolled": true
   },
   "outputs": [
    {
     "data": {
      "text/plain": [
       "0    0.241078\n",
       "1    0.203583\n",
       "2    0.261908\n",
       "3    0.145952\n",
       "4    0.298709\n",
       "Name: SalePrice, dtype: float64"
      ]
     },
     "execution_count": 10,
     "metadata": {},
     "output_type": "execute_result"
    }
   ],
   "source": [
    "norm_sales.head()"
   ]
  },
  {
   "cell_type": "code",
   "execution_count": 11,
   "id": "55ebb760",
   "metadata": {},
   "outputs": [],
   "source": [
    "iris = load_iris()"
   ]
  },
  {
   "cell_type": "code",
   "execution_count": 91,
   "id": "af9840cd",
   "metadata": {},
   "outputs": [],
   "source": [
    "from sklearn.model_selection import train_test_split\n",
    "X_train, X_test, y_train, y_test = train_test_split(drops_test, y , random_state=42)\n"
   ]
  },
  {
   "cell_type": "code",
   "execution_count": 92,
   "id": "66b09dc1",
   "metadata": {
    "scrolled": true
   },
   "outputs": [
    {
     "data": {
      "text/plain": [
       "0.6522149667677712"
      ]
     },
     "execution_count": 92,
     "metadata": {},
     "output_type": "execute_result"
    }
   ],
   "source": [
    "clf = tree.DecisionTreeRegressor()\n",
    "clf = clf.fit(X_train, y_train)\n",
    "clf.score(X_test, y_test)"
   ]
  },
  {
   "cell_type": "code",
   "execution_count": 93,
   "id": "9c2907eb",
   "metadata": {},
   "outputs": [
    {
     "name": "stderr",
     "output_type": "stream",
     "text": [
      "C:\\Users\\NCDSB\\anaconda3\\envs\\PythonAdv\\lib\\site-packages\\ipykernel_launcher.py:3: DataConversionWarning: A column-vector y was passed when a 1d array was expected. Please change the shape of y to (n_samples,), for example using ravel().\n",
      "  This is separate from the ipykernel package so we can avoid doing imports until\n"
     ]
    },
    {
     "data": {
      "text/plain": [
       "0.8170145083851242"
      ]
     },
     "execution_count": 93,
     "metadata": {},
     "output_type": "execute_result"
    }
   ],
   "source": [
    "from sklearn.ensemble import RandomForestRegressor\n",
    "rf = RandomForestRegressor(n_estimators=200)\n",
    "rf = rf.fit(X_train, y_train)\n",
    "rf.score(X_test, y_test)"
   ]
  },
  {
   "cell_type": "code",
   "execution_count": 94,
   "id": "41f7c3bd",
   "metadata": {},
   "outputs": [
    {
     "data": {
      "text/plain": [
       "[(0.39172208074068454, 'GarageArea'),\n",
       " (0.2728490983576889, '1stFlrSF'),\n",
       " (0.17965578392999548, '2ndFlrSF'),\n",
       " (0.07173902691485375, 'LotArea'),\n",
       " (0.0271936738585589, 'OverallCond'),\n",
       " (0.022494390788221227, 'HalfBath'),\n",
       " (0.021362768269228696, 'BsmtFullBath'),\n",
       " (0.006386890314857419, 'BsmtFinSF2'),\n",
       " (0.005286133732589911, 'BsmtExposure_Av'),\n",
       " (0.0013101530933211463, 'LowQualFinSF')]"
      ]
     },
     "execution_count": 94,
     "metadata": {},
     "output_type": "execute_result"
    }
   ],
   "source": [
    "sorted(zip(rf.feature_importances_, drops_test), reverse=True)"
   ]
  }
 ],
 "metadata": {
  "kernelspec": {
   "display_name": "Python 3",
   "language": "python",
   "name": "python3"
  },
  "language_info": {
   "codemirror_mode": {
    "name": "ipython",
    "version": 3
   },
   "file_extension": ".py",
   "mimetype": "text/x-python",
   "name": "python",
   "nbconvert_exporter": "python",
   "pygments_lexer": "ipython3",
   "version": "3.6.13"
  }
 },
 "nbformat": 4,
 "nbformat_minor": 5
}

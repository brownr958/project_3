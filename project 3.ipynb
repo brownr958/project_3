{
 "cells": [
  {
   "cell_type": "code",
   "execution_count": 1,
   "id": "ec1219ae",
   "metadata": {},
   "outputs": [],
   "source": [
    "%matplotlib inline\n",
    "import matplotlib.pyplot as plt\n",
    "import numpy as np\n",
    "import pandas as pd\n",
    "from sklearn import tree\n",
    "import pickle"
   ]
  },
  {
   "cell_type": "code",
   "execution_count": 2,
   "id": "e9543107",
   "metadata": {},
   "outputs": [],
   "source": [
    "from sklearn.datasets import make_regression\n",
    "from sklearn.ensemble import RandomForestClassifier\n",
    "from sklearn.datasets import load_iris"
   ]
  },
  {
   "cell_type": "code",
   "execution_count": 3,
   "id": "4af8326e",
   "metadata": {
    "scrolled": true
   },
   "outputs": [],
   "source": [
    "housing= pd.read_csv('train.csv')\n",
    "housing_test= pd.read_csv('test.csv')"
   ]
  },
  {
   "cell_type": "code",
   "execution_count": 4,
   "id": "68b268ce",
   "metadata": {
    "scrolled": true
   },
   "outputs": [
    {
     "name": "stdout",
     "output_type": "stream",
     "text": [
      "34900 755000\n"
     ]
    }
   ],
   "source": [
    "sale_price = housing['SalePrice']\n",
    "min_sales = housing['SalePrice'].min()\n",
    "max_sales = housing['SalePrice'].max()\n",
    "print(min_sales, max_sales)"
   ]
  },
  {
   "cell_type": "code",
   "execution_count": 5,
   "id": "fbd89513",
   "metadata": {
    "scrolled": false
   },
   "outputs": [
    {
     "data": {
      "text/plain": [
       "0       0.241078\n",
       "1       0.203583\n",
       "2       0.261908\n",
       "3       0.145952\n",
       "4       0.298709\n",
       "          ...   \n",
       "1455    0.194556\n",
       "1456    0.243161\n",
       "1457    0.321622\n",
       "1458    0.148903\n",
       "1459    0.156367\n",
       "Name: SalePrice, Length: 1460, dtype: float64"
      ]
     },
     "execution_count": 5,
     "metadata": {},
     "output_type": "execute_result"
    }
   ],
   "source": [
    "#norm_df = (df - _min) / (_max - _min) # 0-1\n",
    "#scale = df * (_max - _min) + _min # \n",
    "norm_sales = (housing['SalePrice'] - min_sales) / (max_sales - min_sales)\n",
    "norm_sales"
   ]
  },
  {
   "cell_type": "code",
   "execution_count": 6,
   "id": "37c19b8c",
   "metadata": {},
   "outputs": [],
   "source": [
    "#housing['YrSold'].value_counts()"
   ]
  },
  {
   "cell_type": "code",
   "execution_count": 7,
   "id": "12fcab45",
   "metadata": {
    "scrolled": true
   },
   "outputs": [],
   "source": [
    "house_cleaning_1 = housing.replace(['Grvl', 'Pave', 'Gd', 'Fa', 'EX', 'MnPrv', 'GdPrv', 'GdWo', 'GdWw', 'Shed', 'Othr', 'Gar2', 'Tenc'], [1, 1, 1, 1, 1,1 ,1 ,1, 1,1 ,1 , 1, 1])\n",
    "house_cleaning_2 = house_cleaning_1.fillna(value = 0)\n",
    "house_cleaning = house_cleaning_2.drop(columns = ['SalePrice'])"
   ]
  },
  {
   "cell_type": "code",
   "execution_count": 8,
   "id": "81da77b8",
   "metadata": {
    "scrolled": true
   },
   "outputs": [
    {
     "name": "stdout",
     "output_type": "stream",
     "text": [
      "(1460, 80) (1460, 1)\n"
     ]
    }
   ],
   "source": [
    "X = house_cleaning\n",
    "y = norm_sales.values.reshape(-1, 1)\n",
    "print(X.shape, y.shape)"
   ]
  },
  {
   "cell_type": "code",
   "execution_count": 9,
   "id": "9ab4b3fe",
   "metadata": {},
   "outputs": [],
   "source": [
    "test= pd.get_dummies(X)\n",
    "drops_test = test[['OverallCond', 'FullBath', 'BedroomAbvGr', '1stFlrSF','YearBuilt',\n",
    "                               'HalfBath','2ndFlrSF', 'GarageArea', 'LotArea', 'GarageCars', 'KitchenAbvGr' ]]\n",
    "#drops_test.to_csv(r\"testing.csv\", index=False)\n"
   ]
  },
  {
   "cell_type": "code",
   "execution_count": 10,
   "id": "766fdd18",
   "metadata": {
    "scrolled": true
   },
   "outputs": [
    {
     "data": {
      "text/plain": [
       "0    0.241078\n",
       "1    0.203583\n",
       "2    0.261908\n",
       "3    0.145952\n",
       "4    0.298709\n",
       "Name: SalePrice, dtype: float64"
      ]
     },
     "execution_count": 10,
     "metadata": {},
     "output_type": "execute_result"
    }
   ],
   "source": [
    "norm_sales.head()"
   ]
  },
  {
   "cell_type": "code",
   "execution_count": 11,
   "id": "7b9924b2",
   "metadata": {},
   "outputs": [],
   "source": [
    "#iris = load_iris()"
   ]
  },
  {
   "cell_type": "code",
   "execution_count": 12,
   "id": "04a27b32",
   "metadata": {},
   "outputs": [],
   "source": [
    "from sklearn.model_selection import train_test_split\n",
    "X_train, X_test, y_train, y_test = train_test_split(drops_test, y , random_state=42)\n"
   ]
  },
  {
   "cell_type": "code",
   "execution_count": 13,
   "id": "0a5ce7e3",
   "metadata": {
    "scrolled": false
   },
   "outputs": [
    {
     "data": {
      "text/plain": [
       "0.7163666480537733"
      ]
     },
     "execution_count": 13,
     "metadata": {},
     "output_type": "execute_result"
    }
   ],
   "source": [
    "clf = tree.DecisionTreeRegressor()\n",
    "clf = clf.fit(X_train, y_train)\n",
    "clf.score(X_test, y_test)"
   ]
  },
  {
   "cell_type": "code",
   "execution_count": 14,
   "id": "a36753c5",
   "metadata": {
    "scrolled": true
   },
   "outputs": [
    {
     "name": "stderr",
     "output_type": "stream",
     "text": [
      "C:\\Users\\NCDSB\\anaconda3\\envs\\PythonAdv\\lib\\site-packages\\ipykernel_launcher.py:3: DataConversionWarning: A column-vector y was passed when a 1d array was expected. Please change the shape of y to (n_samples,), for example using ravel().\n",
      "  This is separate from the ipykernel package so we can avoid doing imports until\n"
     ]
    },
    {
     "data": {
      "text/plain": [
       "0.8692933503290282"
      ]
     },
     "execution_count": 14,
     "metadata": {},
     "output_type": "execute_result"
    }
   ],
   "source": [
    "from sklearn.ensemble import RandomForestRegressor\n",
    "rf = RandomForestRegressor(n_estimators=200)\n",
    "rf = rf.fit(X_train, y_train)\n",
    "rf.score(X_test, y_test)"
   ]
  },
  {
   "cell_type": "code",
   "execution_count": 15,
   "id": "05301730",
   "metadata": {
    "scrolled": false
   },
   "outputs": [
    {
     "data": {
      "text/plain": [
       "[(0.31422485144808676, 'GarageCars'),\n",
       " (0.18500427599385602, 'YearBuilt'),\n",
       " (0.1698305798715469, '1stFlrSF'),\n",
       " (0.10171150957339119, '2ndFlrSF'),\n",
       " (0.0653804935181497, 'LotArea'),\n",
       " (0.05826212224928963, 'FullBath'),\n",
       " (0.045391304258527984, 'GarageArea'),\n",
       " (0.018249168950418514, 'OverallCond'),\n",
       " (0.016757947336770145, 'BedroomAbvGr'),\n",
       " (0.012916466989515209, 'KitchenAbvGr'),\n",
       " (0.012271279810447958, 'HalfBath')]"
      ]
     },
     "execution_count": 15,
     "metadata": {},
     "output_type": "execute_result"
    }
   ],
   "source": [
    "sorted(zip(rf.feature_importances_, drops_test), reverse=True)"
   ]
  },
  {
   "cell_type": "code",
   "execution_count": 16,
   "id": "132b6cab",
   "metadata": {},
   "outputs": [
    {
     "name": "stderr",
     "output_type": "stream",
     "text": [
      "C:\\Users\\NCDSB\\anaconda3\\envs\\PythonAdv\\lib\\site-packages\\ipykernel_launcher.py:1: DataConversionWarning: A column-vector y was passed when a 1d array was expected. Please change the shape of y to (n_samples,), for example using ravel().\n",
      "  \"\"\"Entry point for launching an IPython kernel.\n"
     ]
    },
    {
     "data": {
      "text/plain": [
       "RandomForestRegressor(n_estimators=200)"
      ]
     },
     "execution_count": 16,
     "metadata": {},
     "output_type": "execute_result"
    }
   ],
   "source": [
    "rf.fit(X_train, y_train)"
   ]
  },
  {
   "cell_type": "code",
   "execution_count": 17,
   "id": "b54575b7",
   "metadata": {
    "scrolled": true
   },
   "outputs": [],
   "source": [
    "predictions = rf.predict(drops_test)\n",
    "#print(predictions)\n",
    "#print(drops_test)"
   ]
  },
  {
   "cell_type": "code",
   "execution_count": 18,
   "id": "72d2d4ee",
   "metadata": {},
   "outputs": [],
   "source": [
    "#first_row = rf.predict([[5, 2, 3, 856, 2003, 1, 854, 548, 8450, 2, 1]])\n",
    "#print(first_row)"
   ]
  },
  {
   "cell_type": "code",
   "execution_count": 19,
   "id": "a926fd29",
   "metadata": {
    "scrolled": true
   },
   "outputs": [
    {
     "name": "stdout",
     "output_type": "stream",
     "text": [
      "[207609.705 176707.5   221905.655 ... 242022.    133848.5   147256.125]\n"
     ]
    }
   ],
   "source": [
    "reverse = ((max_sales - min_sales)*(predictions))+ min_sales\n",
    "print(reverse)"
   ]
  },
  {
   "cell_type": "code",
   "execution_count": 20,
   "id": "ef1e9850",
   "metadata": {},
   "outputs": [
    {
     "name": "stdout",
     "output_type": "stream",
     "text": [
      "0.0006970719552955074\n",
      "0.9426867601369813\n"
     ]
    }
   ],
   "source": [
    "from sklearn.metrics import mean_squared_error, r2_score\n",
    "mse = mean_squared_error(y, predictions)\n",
    "r2 = r2_score(y, predictions)\n",
    "\n",
    "print(mse)\n",
    "print(r2)"
   ]
  },
  {
   "cell_type": "code",
   "execution_count": 21,
   "id": "953a5298",
   "metadata": {
    "scrolled": true
   },
   "outputs": [],
   "source": [
    "pkl_filename = \"housing.pkl\"\n",
    "with open(pkl_filename, 'wb') as file:\n",
    "    pickle.dump(rf, file)"
   ]
  },
  {
   "cell_type": "code",
   "execution_count": 22,
   "id": "ef52903f",
   "metadata": {},
   "outputs": [],
   "source": [
    "#with open(pkl_filename, 'rb') as file:\n",
    "    #pickle_model = pickle.load(file)"
   ]
  }
 ],
 "metadata": {
  "kernelspec": {
   "display_name": "Python 3",
   "language": "python",
   "name": "python3"
  },
  "language_info": {
   "codemirror_mode": {
    "name": "ipython",
    "version": 3
   },
   "file_extension": ".py",
   "mimetype": "text/x-python",
   "name": "python",
   "nbconvert_exporter": "python",
   "pygments_lexer": "ipython3",
   "version": "3.6.13"
  }
 },
 "nbformat": 4,
 "nbformat_minor": 5
}
